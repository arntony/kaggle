{
 "cells": [
  {
   "cell_type": "code",
   "execution_count": 9,
   "metadata": {},
   "outputs": [
    {
     "name": "stdout",
     "output_type": "stream",
     "text": [
      "data for prediction:\n",
      "   MSSubClass  LotFrontage  LotArea  OverallQual  OverallCond  MasVnrArea  \\\n",
      "0          60         65.0     8450            7            5       196.0   \n",
      "1          20         80.0     9600            6            8         0.0   \n",
      "2          60         68.0    11250            7            5       162.0   \n",
      "3          70         60.0     9550            7            5         0.0   \n",
      "4          60         84.0    14260            8            5       350.0   \n",
      "\n",
      "   BsmtFinSF1  WoodDeckSF  OpenPorchSF  \n",
      "0         706           0           61  \n",
      "1         978         298            0  \n",
      "2         486           0           42  \n",
      "3         216           0           35  \n",
      "4         655         192           84  \n",
      "predicted: [208500. 181500. 223500. 140000. 250000.]\n",
      "actual: [208500, 181500, 223500, 140000, 250000]\n"
     ]
    }
   ],
   "source": [
    "import pandas as pd\n",
    "main_file_path = './input/train.csv' # this is the path to the Iowa data that you will use\n",
    "data = pd.read_csv(main_file_path)\n",
    "iowa_features = ['MSSubClass','LotFrontage','LotArea','OverallQual','OverallCond','MasVnrArea','BsmtFinSF1'\n",
    "                 ,'WoodDeckSF','OpenPorchSF','SalePrice']\n",
    "data = data[iowa_features].dropna(axis=0)\n",
    "\n",
    "y = data.SalePrice\n",
    "iowa_features = ['MSSubClass','LotFrontage','LotArea','OverallQual','OverallCond','MasVnrArea','BsmtFinSF1'\n",
    "                 ,'WoodDeckSF','OpenPorchSF']\n",
    "X = data[iowa_features]\n",
    "\n",
    "from sklearn.tree import DecisionTreeRegressor\n",
    "\n",
    "iowa_model = DecisionTreeRegressor(random_state=1)\n",
    "\n",
    "iowa_model.fit(X,y)\n",
    "\n",
    "# The code below will help you see how output appears when you run a code block\n",
    "print('data for prediction:')\n",
    "print(X.head())\n",
    "print('predicted:',iowa_model.predict(X.head()))\n",
    "print('actual:',y.head().tolist())\n",
    "# Run this code block with the control-enter keys on your keyboard. Or click the blue botton on the left\n"
   ]
  },
  {
   "cell_type": "code",
   "execution_count": null,
   "metadata": {},
   "outputs": [],
   "source": []
  }
 ],
 "metadata": {
  "kernelspec": {
   "display_name": "kaggle",
   "language": "python",
   "name": "kaggle"
  },
  "language_info": {
   "codemirror_mode": {
    "name": "ipython",
    "version": 3
   },
   "file_extension": ".py",
   "mimetype": "text/x-python",
   "name": "python",
   "nbconvert_exporter": "python",
   "pygments_lexer": "ipython3",
   "version": "3.7.4"
  }
 },
 "nbformat": 4,
 "nbformat_minor": 4
}
